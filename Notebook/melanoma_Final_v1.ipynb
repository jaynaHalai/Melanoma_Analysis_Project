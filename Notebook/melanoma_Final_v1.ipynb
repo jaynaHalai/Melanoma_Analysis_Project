{
 "cells": [
  {
   "cell_type": "markdown",
   "metadata": {},
   "source": [
    "## Background "
   ]
  },
  {
   "cell_type": "markdown",
   "metadata": {},
   "source": [
    "- The data consists of measurements made on patients with malignant melanoma. \n",
    "\n",
    "- Each patient had their tumour removed by surgery at the Department of Plastic Surgery, University Hospital of Odense, \n",
    "\n",
    "- Denmark during the period 1962 to 1977. The surgery consisted of complete removal of the tumour together with about 2.5cm of the surrounding skin.\n",
    "- Among the measurements taken were the thickness of the tumour and whether it was ulcerated or not. These are thought to be important prognostic variables in that patients with a thick and/or ulcerated tumour have an increased chance of death from melanoma. \n",
    "\n",
    "- Patients were followed until the end of 1977. \n"
   ]
  },
  {
   "cell_type": "markdown",
   "metadata": {},
   "source": [
    "#### Data dictionary "
   ]
  },
  {
   "cell_type": "markdown",
   "metadata": {},
   "source": [
    "| Column     | Description                                    | Data Elements Description                                      | Data Type |\n",
    "|------------|------------------------------------------------|----------------------------------------------------------------|-----------|\n",
    "| time       | Survival time in days since the operation.     |                                                                | int64     |\n",
    "| status     | Outcome of the patient at the end of the study.| 1 for death from melanoma, 2 for alive, and 3 for death from causes unrelated to melanoma. | int64     |\n",
    "| sex        |The patient's sex.                              | 1 for male, 0 for female.                                        | int64     |\n",
    "| age        | Age in years at the time of the operation.     |                                                                | int64     |\n",
    "| year       | Year of operation.                             |                                                                | int64     |\n",
    "| thickness  | Tumor thickness in millimeters.                |                                                                | float64   |\n",
    "| ulcer      | Indicator of ulceration.                       | 1 if present, 0 if absent.                                     | int64     |"
   ]
  },
  {
   "cell_type": "markdown",
   "metadata": {},
   "source": [
    "# Loading modules "
   ]
  },
  {
   "cell_type": "markdown",
   "metadata": {},
   "source": [
    "Importing required packages "
   ]
  },
  {
   "cell_type": "code",
   "execution_count": 1,
   "metadata": {
    "scrolled": true
   },
   "outputs": [
    {
     "name": "stderr",
     "output_type": "stream",
     "text": [
      "/Users/jaynahalai/anaconda3/lib/python3.6/site-packages/outdated/utils.py:18: OutdatedPackageWarning:\n",
      "\n",
      "The package pingouin is out of date. Your version is 0.3.12, the latest is 0.5.4.\n",
      "Set the environment variable OUTDATED_IGNORE=1 to disable these warnings.\n",
      "\n"
     ]
    }
   ],
   "source": [
    "import os,sys\n",
    "import numpy as np\n",
    "import pandas as pd\n",
    "import matplotlib.pyplot as plt\n",
    "import matplotlib.style as style\n",
    "import seaborn as sns\n",
    "import plotly.express as px\n",
    "import scipy.stats as stats \n",
    "import pingouin\n",
    "# import statsmodels.api as sm\n",
    "# import statsmodels.formula.api as smf\n",
    "import sklearn\n",
    "%matplotlib inline\n",
    "import warnings "
   ]
  },
  {
   "cell_type": "code",
   "execution_count": null,
   "metadata": {},
   "outputs": [],
   "source": [
    "# !pip install statsmodels"
   ]
  },
  {
   "cell_type": "markdown",
   "metadata": {},
   "source": [
    "# Data Ingestion "
   ]
  },
  {
   "cell_type": "code",
   "execution_count": 9,
   "metadata": {},
   "outputs": [],
   "source": [
    "#Loading the dataset \n",
    "df=pd.read_csv('melanoma.csv')"
   ]
  },
  {
   "cell_type": "markdown",
   "metadata": {},
   "source": [
    "# Data Overview "
   ]
  },
  {
   "cell_type": "code",
   "execution_count": 10,
   "metadata": {},
   "outputs": [
    {
     "data": {
      "text/html": [
       "<div>\n",
       "<style scoped>\n",
       "    .dataframe tbody tr th:only-of-type {\n",
       "        vertical-align: middle;\n",
       "    }\n",
       "\n",
       "    .dataframe tbody tr th {\n",
       "        vertical-align: top;\n",
       "    }\n",
       "\n",
       "    .dataframe thead th {\n",
       "        text-align: right;\n",
       "    }\n",
       "</style>\n",
       "<table border=\"1\" class=\"dataframe\">\n",
       "  <thead>\n",
       "    <tr style=\"text-align: right;\">\n",
       "      <th></th>\n",
       "      <th>time</th>\n",
       "      <th>status</th>\n",
       "      <th>sex</th>\n",
       "      <th>age</th>\n",
       "      <th>year</th>\n",
       "      <th>thickness</th>\n",
       "      <th>ulcer</th>\n",
       "    </tr>\n",
       "  </thead>\n",
       "  <tbody>\n",
       "    <tr>\n",
       "      <th>0</th>\n",
       "      <td>10</td>\n",
       "      <td>3</td>\n",
       "      <td>1</td>\n",
       "      <td>76</td>\n",
       "      <td>1972</td>\n",
       "      <td>6.76</td>\n",
       "      <td>1</td>\n",
       "    </tr>\n",
       "    <tr>\n",
       "      <th>1</th>\n",
       "      <td>30</td>\n",
       "      <td>3</td>\n",
       "      <td>1</td>\n",
       "      <td>56</td>\n",
       "      <td>1968</td>\n",
       "      <td>0.65</td>\n",
       "      <td>0</td>\n",
       "    </tr>\n",
       "    <tr>\n",
       "      <th>2</th>\n",
       "      <td>35</td>\n",
       "      <td>2</td>\n",
       "      <td>1</td>\n",
       "      <td>41</td>\n",
       "      <td>1977</td>\n",
       "      <td>1.34</td>\n",
       "      <td>0</td>\n",
       "    </tr>\n",
       "    <tr>\n",
       "      <th>3</th>\n",
       "      <td>99</td>\n",
       "      <td>3</td>\n",
       "      <td>0</td>\n",
       "      <td>71</td>\n",
       "      <td>1968</td>\n",
       "      <td>2.90</td>\n",
       "      <td>0</td>\n",
       "    </tr>\n",
       "    <tr>\n",
       "      <th>4</th>\n",
       "      <td>185</td>\n",
       "      <td>1</td>\n",
       "      <td>1</td>\n",
       "      <td>52</td>\n",
       "      <td>1965</td>\n",
       "      <td>12.08</td>\n",
       "      <td>1</td>\n",
       "    </tr>\n",
       "  </tbody>\n",
       "</table>\n",
       "</div>"
      ],
      "text/plain": [
       "   time  status  sex  age  year  thickness  ulcer\n",
       "0    10       3    1   76  1972       6.76      1\n",
       "1    30       3    1   56  1968       0.65      0\n",
       "2    35       2    1   41  1977       1.34      0\n",
       "3    99       3    0   71  1968       2.90      0\n",
       "4   185       1    1   52  1965      12.08      1"
      ]
     },
     "execution_count": 10,
     "metadata": {},
     "output_type": "execute_result"
    }
   ],
   "source": [
    "# Display the first five rows\n",
    "df.head()"
   ]
  },
  {
   "cell_type": "code",
   "execution_count": 11,
   "metadata": {},
   "outputs": [
    {
     "data": {
      "text/html": [
       "<div>\n",
       "<style scoped>\n",
       "    .dataframe tbody tr th:only-of-type {\n",
       "        vertical-align: middle;\n",
       "    }\n",
       "\n",
       "    .dataframe tbody tr th {\n",
       "        vertical-align: top;\n",
       "    }\n",
       "\n",
       "    .dataframe thead th {\n",
       "        text-align: right;\n",
       "    }\n",
       "</style>\n",
       "<table border=\"1\" class=\"dataframe\">\n",
       "  <thead>\n",
       "    <tr style=\"text-align: right;\">\n",
       "      <th></th>\n",
       "      <th>time</th>\n",
       "      <th>status</th>\n",
       "      <th>sex</th>\n",
       "      <th>age</th>\n",
       "      <th>year</th>\n",
       "      <th>thickness</th>\n",
       "      <th>ulcer</th>\n",
       "    </tr>\n",
       "  </thead>\n",
       "  <tbody>\n",
       "    <tr>\n",
       "      <th>200</th>\n",
       "      <td>4492</td>\n",
       "      <td>2</td>\n",
       "      <td>1</td>\n",
       "      <td>29</td>\n",
       "      <td>1965</td>\n",
       "      <td>7.06</td>\n",
       "      <td>1</td>\n",
       "    </tr>\n",
       "    <tr>\n",
       "      <th>201</th>\n",
       "      <td>4668</td>\n",
       "      <td>2</td>\n",
       "      <td>0</td>\n",
       "      <td>40</td>\n",
       "      <td>1965</td>\n",
       "      <td>6.12</td>\n",
       "      <td>0</td>\n",
       "    </tr>\n",
       "    <tr>\n",
       "      <th>202</th>\n",
       "      <td>4688</td>\n",
       "      <td>2</td>\n",
       "      <td>0</td>\n",
       "      <td>42</td>\n",
       "      <td>1965</td>\n",
       "      <td>0.48</td>\n",
       "      <td>0</td>\n",
       "    </tr>\n",
       "    <tr>\n",
       "      <th>203</th>\n",
       "      <td>4926</td>\n",
       "      <td>2</td>\n",
       "      <td>0</td>\n",
       "      <td>50</td>\n",
       "      <td>1964</td>\n",
       "      <td>2.26</td>\n",
       "      <td>0</td>\n",
       "    </tr>\n",
       "    <tr>\n",
       "      <th>204</th>\n",
       "      <td>5565</td>\n",
       "      <td>2</td>\n",
       "      <td>0</td>\n",
       "      <td>41</td>\n",
       "      <td>1962</td>\n",
       "      <td>2.90</td>\n",
       "      <td>0</td>\n",
       "    </tr>\n",
       "  </tbody>\n",
       "</table>\n",
       "</div>"
      ],
      "text/plain": [
       "     time  status  sex  age  year  thickness  ulcer\n",
       "200  4492       2    1   29  1965       7.06      1\n",
       "201  4668       2    0   40  1965       6.12      0\n",
       "202  4688       2    0   42  1965       0.48      0\n",
       "203  4926       2    0   50  1964       2.26      0\n",
       "204  5565       2    0   41  1962       2.90      0"
      ]
     },
     "execution_count": 11,
     "metadata": {},
     "output_type": "execute_result"
    }
   ],
   "source": [
    "# Display the  five rows\n",
    "df.tail()"
   ]
  },
  {
   "cell_type": "code",
   "execution_count": 12,
   "metadata": {},
   "outputs": [
    {
     "data": {
      "text/plain": [
       "(205, 7)"
      ]
     },
     "execution_count": 12,
     "metadata": {},
     "output_type": "execute_result"
    }
   ],
   "source": [
    "#Checking if the shape matched the expected dimensons of the data frame \n",
    "df.shape"
   ]
  },
  {
   "cell_type": "markdown",
   "metadata": {},
   "source": [
    "**Commentary:** This Dataset has 7 columns and 205 rows of data"
   ]
  },
  {
   "cell_type": "code",
   "execution_count": 13,
   "metadata": {},
   "outputs": [
    {
     "name": "stdout",
     "output_type": "stream",
     "text": [
      "<class 'pandas.core.frame.DataFrame'>\n",
      "RangeIndex: 205 entries, 0 to 204\n",
      "Data columns (total 7 columns):\n",
      " #   Column     Non-Null Count  Dtype  \n",
      "---  ------     --------------  -----  \n",
      " 0   time       205 non-null    int64  \n",
      " 1   status     205 non-null    int64  \n",
      " 2   sex        205 non-null    int64  \n",
      " 3   age        205 non-null    int64  \n",
      " 4   year       205 non-null    int64  \n",
      " 5   thickness  205 non-null    float64\n",
      " 6   ulcer      205 non-null    int64  \n",
      "dtypes: float64(1), int64(6)\n",
      "memory usage: 11.3 KB\n"
     ]
    }
   ],
   "source": [
    "# Reviewing data structure and completeness\n",
    "df.info()"
   ]
  },
  {
   "cell_type": "code",
   "execution_count": 18,
   "metadata": {},
   "outputs": [
    {
     "data": {
      "text/html": [
       "<div>\n",
       "<style scoped>\n",
       "    .dataframe tbody tr th:only-of-type {\n",
       "        vertical-align: middle;\n",
       "    }\n",
       "\n",
       "    .dataframe tbody tr th {\n",
       "        vertical-align: top;\n",
       "    }\n",
       "\n",
       "    .dataframe thead th {\n",
       "        text-align: right;\n",
       "    }\n",
       "</style>\n",
       "<table border=\"1\" class=\"dataframe\">\n",
       "  <thead>\n",
       "    <tr style=\"text-align: right;\">\n",
       "      <th></th>\n",
       "      <th>time</th>\n",
       "      <th>status</th>\n",
       "      <th>sex</th>\n",
       "      <th>age</th>\n",
       "      <th>year</th>\n",
       "      <th>thickness</th>\n",
       "      <th>ulcer</th>\n",
       "    </tr>\n",
       "  </thead>\n",
       "  <tbody>\n",
       "    <tr>\n",
       "      <th>0</th>\n",
       "      <td>10</td>\n",
       "      <td>Not_melanoma_death</td>\n",
       "      <td>Male</td>\n",
       "      <td>76</td>\n",
       "      <td>1972</td>\n",
       "      <td>6.76</td>\n",
       "      <td>Present</td>\n",
       "    </tr>\n",
       "    <tr>\n",
       "      <th>1</th>\n",
       "      <td>30</td>\n",
       "      <td>Not_melanoma_death</td>\n",
       "      <td>Male</td>\n",
       "      <td>56</td>\n",
       "      <td>1968</td>\n",
       "      <td>0.65</td>\n",
       "      <td>Absent</td>\n",
       "    </tr>\n",
       "    <tr>\n",
       "      <th>2</th>\n",
       "      <td>35</td>\n",
       "      <td>Alive</td>\n",
       "      <td>Male</td>\n",
       "      <td>41</td>\n",
       "      <td>1977</td>\n",
       "      <td>1.34</td>\n",
       "      <td>Absent</td>\n",
       "    </tr>\n",
       "    <tr>\n",
       "      <th>3</th>\n",
       "      <td>99</td>\n",
       "      <td>Not_melanoma_death</td>\n",
       "      <td>Female</td>\n",
       "      <td>71</td>\n",
       "      <td>1968</td>\n",
       "      <td>2.90</td>\n",
       "      <td>Absent</td>\n",
       "    </tr>\n",
       "    <tr>\n",
       "      <th>4</th>\n",
       "      <td>185</td>\n",
       "      <td>Melanoma_death</td>\n",
       "      <td>Male</td>\n",
       "      <td>52</td>\n",
       "      <td>1965</td>\n",
       "      <td>12.08</td>\n",
       "      <td>Present</td>\n",
       "    </tr>\n",
       "  </tbody>\n",
       "</table>\n",
       "</div>"
      ],
      "text/plain": [
       "   time              status     sex  age  year  thickness    ulcer\n",
       "0    10  Not_melanoma_death    Male   76  1972       6.76  Present\n",
       "1    30  Not_melanoma_death    Male   56  1968       0.65   Absent\n",
       "2    35               Alive    Male   41  1977       1.34   Absent\n",
       "3    99  Not_melanoma_death  Female   71  1968       2.90   Absent\n",
       "4   185      Melanoma_death    Male   52  1965      12.08  Present"
      ]
     },
     "execution_count": 18,
     "metadata": {},
     "output_type": "execute_result"
    }
   ],
   "source": [
    "#Coverts numeric data representing categorical variables into corresponding descriptive labels using predefined functions and conditional statements.\n",
    "df['sex'].replace({1:'Male',0:'Female'},inplace=True)\n",
    "df['ulcer'].replace({1:'Present',0:'Absent'},inplace=True)\n",
    "df['status'].replace({1:'Melanoma_death',2:'Alive',3:'Not_melanoma_death'},inplace=True)\n",
    "\n",
    "# Preview New data frame \n",
    "df.head()"
   ]
  },
  {
   "cell_type": "code",
   "execution_count": 21,
   "metadata": {},
   "outputs": [
    {
     "data": {
      "text/html": [
       "<div>\n",
       "<style scoped>\n",
       "    .dataframe tbody tr th:only-of-type {\n",
       "        vertical-align: middle;\n",
       "    }\n",
       "\n",
       "    .dataframe tbody tr th {\n",
       "        vertical-align: top;\n",
       "    }\n",
       "\n",
       "    .dataframe thead th {\n",
       "        text-align: right;\n",
       "    }\n",
       "</style>\n",
       "<table border=\"1\" class=\"dataframe\">\n",
       "  <thead>\n",
       "    <tr style=\"text-align: right;\">\n",
       "      <th></th>\n",
       "      <th>time</th>\n",
       "      <th>age</th>\n",
       "      <th>year</th>\n",
       "      <th>thickness</th>\n",
       "    </tr>\n",
       "  </thead>\n",
       "  <tbody>\n",
       "    <tr>\n",
       "      <th>count</th>\n",
       "      <td>205.000000</td>\n",
       "      <td>205.000000</td>\n",
       "      <td>205.000000</td>\n",
       "      <td>205.000000</td>\n",
       "    </tr>\n",
       "    <tr>\n",
       "      <th>mean</th>\n",
       "      <td>2152.800000</td>\n",
       "      <td>52.463415</td>\n",
       "      <td>1969.907317</td>\n",
       "      <td>2.919854</td>\n",
       "    </tr>\n",
       "    <tr>\n",
       "      <th>std</th>\n",
       "      <td>1122.060667</td>\n",
       "      <td>16.671711</td>\n",
       "      <td>2.575563</td>\n",
       "      <td>2.959433</td>\n",
       "    </tr>\n",
       "    <tr>\n",
       "      <th>min</th>\n",
       "      <td>10.000000</td>\n",
       "      <td>4.000000</td>\n",
       "      <td>1962.000000</td>\n",
       "      <td>0.100000</td>\n",
       "    </tr>\n",
       "    <tr>\n",
       "      <th>25%</th>\n",
       "      <td>1525.000000</td>\n",
       "      <td>42.000000</td>\n",
       "      <td>1968.000000</td>\n",
       "      <td>0.970000</td>\n",
       "    </tr>\n",
       "    <tr>\n",
       "      <th>50%</th>\n",
       "      <td>2005.000000</td>\n",
       "      <td>54.000000</td>\n",
       "      <td>1970.000000</td>\n",
       "      <td>1.940000</td>\n",
       "    </tr>\n",
       "    <tr>\n",
       "      <th>75%</th>\n",
       "      <td>3042.000000</td>\n",
       "      <td>65.000000</td>\n",
       "      <td>1972.000000</td>\n",
       "      <td>3.560000</td>\n",
       "    </tr>\n",
       "    <tr>\n",
       "      <th>max</th>\n",
       "      <td>5565.000000</td>\n",
       "      <td>95.000000</td>\n",
       "      <td>1977.000000</td>\n",
       "      <td>17.420000</td>\n",
       "    </tr>\n",
       "  </tbody>\n",
       "</table>\n",
       "</div>"
      ],
      "text/plain": [
       "              time         age         year   thickness\n",
       "count   205.000000  205.000000   205.000000  205.000000\n",
       "mean   2152.800000   52.463415  1969.907317    2.919854\n",
       "std    1122.060667   16.671711     2.575563    2.959433\n",
       "min      10.000000    4.000000  1962.000000    0.100000\n",
       "25%    1525.000000   42.000000  1968.000000    0.970000\n",
       "50%    2005.000000   54.000000  1970.000000    1.940000\n",
       "75%    3042.000000   65.000000  1972.000000    3.560000\n",
       "max    5565.000000   95.000000  1977.000000   17.420000"
      ]
     },
     "execution_count": 21,
     "metadata": {},
     "output_type": "execute_result"
    }
   ],
   "source": [
    "#Preview summary statistics for numerical columns  \n",
    "df.describe()"
   ]
  },
  {
   "cell_type": "code",
   "execution_count": 22,
   "metadata": {},
   "outputs": [
    {
     "data": {
      "text/html": [
       "<div>\n",
       "<style scoped>\n",
       "    .dataframe tbody tr th:only-of-type {\n",
       "        vertical-align: middle;\n",
       "    }\n",
       "\n",
       "    .dataframe tbody tr th {\n",
       "        vertical-align: top;\n",
       "    }\n",
       "\n",
       "    .dataframe thead th {\n",
       "        text-align: right;\n",
       "    }\n",
       "</style>\n",
       "<table border=\"1\" class=\"dataframe\">\n",
       "  <thead>\n",
       "    <tr style=\"text-align: right;\">\n",
       "      <th></th>\n",
       "      <th>status</th>\n",
       "      <th>sex</th>\n",
       "      <th>ulcer</th>\n",
       "    </tr>\n",
       "  </thead>\n",
       "  <tbody>\n",
       "    <tr>\n",
       "      <th>count</th>\n",
       "      <td>205</td>\n",
       "      <td>205</td>\n",
       "      <td>205</td>\n",
       "    </tr>\n",
       "    <tr>\n",
       "      <th>unique</th>\n",
       "      <td>3</td>\n",
       "      <td>2</td>\n",
       "      <td>2</td>\n",
       "    </tr>\n",
       "    <tr>\n",
       "      <th>top</th>\n",
       "      <td>Alive</td>\n",
       "      <td>Female</td>\n",
       "      <td>Absent</td>\n",
       "    </tr>\n",
       "    <tr>\n",
       "      <th>freq</th>\n",
       "      <td>134</td>\n",
       "      <td>126</td>\n",
       "      <td>115</td>\n",
       "    </tr>\n",
       "  </tbody>\n",
       "</table>\n",
       "</div>"
      ],
      "text/plain": [
       "       status     sex   ulcer\n",
       "count     205     205     205\n",
       "unique      3       2       2\n",
       "top     Alive  Female  Absent\n",
       "freq      134     126     115"
      ]
     },
     "execution_count": 22,
     "metadata": {},
     "output_type": "execute_result"
    }
   ],
   "source": [
    "#Preview summary statistics for Categorical columns  \n",
    "df.describe(include=\"O\")"
   ]
  },
  {
   "cell_type": "markdown",
   "metadata": {},
   "source": [
    "# Univartiate Analysis \n",
    "Univariate analysis examines the distribution and characteristics of a single variable, aiming to understand its central tendency, dispersion, and shape to uncover patterns and insights within the data."
   ]
  },
  {
   "cell_type": "markdown",
   "metadata": {},
   "source": [
    "### Time"
   ]
  },
  {
   "cell_type": "code",
   "execution_count": 116,
   "metadata": {},
   "outputs": [
    {
     "data": {
      "text/html": [
       "<div>\n",
       "<style scoped>\n",
       "    .dataframe tbody tr th:only-of-type {\n",
       "        vertical-align: middle;\n",
       "    }\n",
       "\n",
       "    .dataframe tbody tr th {\n",
       "        vertical-align: top;\n",
       "    }\n",
       "\n",
       "    .dataframe thead th {\n",
       "        text-align: right;\n",
       "    }\n",
       "</style>\n",
       "<table border=\"1\" class=\"dataframe\">\n",
       "  <thead>\n",
       "    <tr style=\"text-align: right;\">\n",
       "      <th></th>\n",
       "      <th>time</th>\n",
       "    </tr>\n",
       "  </thead>\n",
       "  <tbody>\n",
       "    <tr>\n",
       "      <th>count</th>\n",
       "      <td>205.000000</td>\n",
       "    </tr>\n",
       "    <tr>\n",
       "      <th>mean</th>\n",
       "      <td>2152.800000</td>\n",
       "    </tr>\n",
       "    <tr>\n",
       "      <th>std</th>\n",
       "      <td>1122.060667</td>\n",
       "    </tr>\n",
       "    <tr>\n",
       "      <th>min</th>\n",
       "      <td>10.000000</td>\n",
       "    </tr>\n",
       "    <tr>\n",
       "      <th>25%</th>\n",
       "      <td>1525.000000</td>\n",
       "    </tr>\n",
       "    <tr>\n",
       "      <th>50%</th>\n",
       "      <td>2005.000000</td>\n",
       "    </tr>\n",
       "    <tr>\n",
       "      <th>75%</th>\n",
       "      <td>3042.000000</td>\n",
       "    </tr>\n",
       "    <tr>\n",
       "      <th>max</th>\n",
       "      <td>5565.000000</td>\n",
       "    </tr>\n",
       "  </tbody>\n",
       "</table>\n",
       "</div>"
      ],
      "text/plain": [
       "              time\n",
       "count   205.000000\n",
       "mean   2152.800000\n",
       "std    1122.060667\n",
       "min      10.000000\n",
       "25%    1525.000000\n",
       "50%    2005.000000\n",
       "75%    3042.000000\n",
       "max    5565.000000"
      ]
     },
     "execution_count": 116,
     "metadata": {},
     "output_type": "execute_result"
    }
   ],
   "source": [
    "df[['time']].describe()"
   ]
  },
  {
   "cell_type": "code",
   "execution_count": 78,
   "metadata": {
    "scrolled": false
   },
   "outputs": [
    {
     "data": {
      "image/png": "[encoded data removed]",
      "text/plain": [
       "<Figure size 1440x720 with 1 Axes>"
      ]
     },
     "metadata": {
      "needs_background": "light"
     },
     "output_type": "display_data"
    }
   ],
   "source": [
    "# Set the figure size to (20, 10) inches\n",
    "plt.figure(figsize=(20,10))\n",
    "\n",
    "# Create a histogram plot using Seaborn\n",
    "sns.histplot(x='time',data=df,bins=10,edgecolor='black',alpha=0.8)\n",
    "\n",
    "# Display the plot\n",
    "plt.show()"
   ]
  },
  {
   "cell_type": "markdown",
   "metadata": {},
   "source": [
    "**Observations**\n",
    "- 50% of individuals who survive after the operation,live below approximately 5.5 years \n",
    "- The person that survived the operation and lived the longest survived for approximately 15 years(5565 days)\n",
    "- The shortest periord of time a person lived after surviving the operation was 10 days \n",
    "- On average a person lives approxmimately 6 years (2500 days) after surviving the operation. "
   ]
  },
  {
   "cell_type": "markdown",
   "metadata": {},
   "source": [
    "### Status"
   ]
  },
  {
   "cell_type": "code",
   "execution_count": 124,
   "metadata": {},
   "outputs": [
    {
     "data": {
      "text/plain": [
       "status            \n",
       "Alive                 134\n",
       "Melanoma_death         57\n",
       "Not_melanoma_death     14\n",
       "dtype: int64"
      ]
     },
     "execution_count": 124,
     "metadata": {},
     "output_type": "execute_result"
    }
   ],
   "source": [
    "df[['status']].value_counts()"
   ]
  },
  {
   "cell_type": "code",
   "execution_count": 119,
   "metadata": {},
   "outputs": [
    {
     "data": {
      "image/png": "[encoded data removed]",
      "text/plain": [
       "<Figure size 1224x360 with 2 Axes>"
      ]
     },
     "metadata": {
      "needs_background": "light"
     },
     "output_type": "display_data"
    }
   ],
   "source": [
    "# Set the size of the figure\n",
    "plt.figure(figsize=(17, 5))\n",
    "\n",
    "# First subplot\n",
    "plt.subplot(1, 2, 1)\n",
    "\n",
    "# Create count plot using Seaborn\n",
    "sns.countplot(x=df['status'],palette=['lightcoral','skyblue','lightgreen'])\n",
    "\n",
    "# Set plot title and labels\n",
    "plt.title('Patient outcomes')\n",
    "plt.xlabel('Status')\n",
    "plt.ylabel('Count')\n",
    "\n",
    "# Second subplot\n",
    "plt.subplot(1, 2, 2)\n",
    "\n",
    "# Create pie chart\n",
    "df['status'].value_counts().plot(kind='pie', autopct='%1.1f%%', colors=['skyblue', 'lightgreen', 'lightcoral'])\n",
    "\n",
    "# Set plot title and labels\n",
    "plt.title('Patient Outcomes')\n",
    "plt.ylabel('')\n",
    "\n",
    "# Show plot\n",
    "plt.show()\n"
   ]
  },
  {
   "cell_type": "markdown",
   "metadata": {},
   "source": [
    "**Observations**\n",
    "- The likelihood of patients surviving post-operation is notably elevated, with 65% of patients demonstrating survival, in contrast to 27% who succumbed to melanoma."
   ]
  },
  {
   "cell_type": "markdown",
   "metadata": {},
   "source": [
    "### Sex (i.e Patient's Gender)"
   ]
  },
  {
   "cell_type": "code",
   "execution_count": 123,
   "metadata": {},
   "outputs": [
    {
     "data": {
      "text/plain": [
       "sex   \n",
       "Female    126\n",
       "Male       79\n",
       "dtype: int64"
      ]
     },
     "execution_count": 123,
     "metadata": {},
     "output_type": "execute_result"
    }
   ],
   "source": [
    "df[['sex']].value_counts()"
   ]
  },
  {
   "cell_type": "code",
   "execution_count": 42,
   "metadata": {
    "scrolled": false
   },
   "outputs": [
    {
     "data": {
      "image/png": "[encoded data removed]",
      "text/plain": [
       "<Figure size 576x432 with 1 Axes>"
      ]
     },
     "metadata": {
      "needs_background": "light"
     },
     "output_type": "display_data"
    }
   ],
   "source": [
    "# Set figure size\n",
    "plt.figure(figsize=(8, 6))  # Adjust width and height as needed\n",
    "\n",
    "\n",
    "# Create count plot using Seaborn\n",
    "sns.countplot(x=df['sex'])\n",
    "\n",
    "# Set plot title and labels\n",
    "plt.title('Gender Count Plot')\n",
    "plt.xlabel('Gender')\n",
    "plt.ylabel('Count')\n",
    "\n",
    "# Show plot\n",
    "plt.show()"
   ]
  },
  {
   "cell_type": "markdown",
   "metadata": {},
   "source": [
    "**Observations**\n",
    "\n",
    "- The unequal gender distribution, with 126 females and 79 males in the sample, may introduce bias when assessing the success rate of a melanoma treatment. \n",
    "\n",
    "- Variances in physiological responses and risk factors between genders could lead to skewed results, making it difficult to generalize treatment effectiveness."
   ]
  },
  {
   "cell_type": "markdown",
   "metadata": {},
   "source": [
    "### Age"
   ]
  },
  {
   "cell_type": "code",
   "execution_count": 125,
   "metadata": {},
   "outputs": [
    {
     "data": {
      "text/html": [
       "<div>\n",
       "<style scoped>\n",
       "    .dataframe tbody tr th:only-of-type {\n",
       "        vertical-align: middle;\n",
       "    }\n",
       "\n",
       "    .dataframe tbody tr th {\n",
       "        vertical-align: top;\n",
       "    }\n",
       "\n",
       "    .dataframe thead th {\n",
       "        text-align: right;\n",
       "    }\n",
       "</style>\n",
       "<table border=\"1\" class=\"dataframe\">\n",
       "  <thead>\n",
       "    <tr style=\"text-align: right;\">\n",
       "      <th></th>\n",
       "      <th>age</th>\n",
       "    </tr>\n",
       "  </thead>\n",
       "  <tbody>\n",
       "    <tr>\n",
       "      <th>count</th>\n",
       "      <td>205.000000</td>\n",
       "    </tr>\n",
       "    <tr>\n",
       "      <th>mean</th>\n",
       "      <td>52.463415</td>\n",
       "    </tr>\n",
       "    <tr>\n",
       "      <th>std</th>\n",
       "      <td>16.671711</td>\n",
       "    </tr>\n",
       "    <tr>\n",
       "      <th>min</th>\n",
       "      <td>4.000000</td>\n",
       "    </tr>\n",
       "    <tr>\n",
       "      <th>25%</th>\n",
       "      <td>42.000000</td>\n",
       "    </tr>\n",
       "    <tr>\n",
       "      <th>50%</th>\n",
       "      <td>54.000000</td>\n",
       "    </tr>\n",
       "    <tr>\n",
       "      <th>75%</th>\n",
       "      <td>65.000000</td>\n",
       "    </tr>\n",
       "    <tr>\n",
       "      <th>max</th>\n",
       "      <td>95.000000</td>\n",
       "    </tr>\n",
       "  </tbody>\n",
       "</table>\n",
       "</div>"
      ],
      "text/plain": [
       "              age\n",
       "count  205.000000\n",
       "mean    52.463415\n",
       "std     16.671711\n",
       "min      4.000000\n",
       "25%     42.000000\n",
       "50%     54.000000\n",
       "75%     65.000000\n",
       "max     95.000000"
      ]
     },
     "execution_count": 125,
     "metadata": {},
     "output_type": "execute_result"
    }
   ],
   "source": [
    "df[['age']].describe()"
   ]
  },
  {
   "cell_type": "code",
   "execution_count": 133,
   "metadata": {},
   "outputs": [
    {
     "name": "stderr",
     "output_type": "stream",
     "text": [
      "/Users/jaynahalai/anaconda3/lib/python3.6/site-packages/seaborn/_decorators.py:43: FutureWarning:\n",
      "\n",
      "Pass the following variable as a keyword arg: x. From version 0.12, the only valid positional argument will be `data`, and passing other arguments without an explicit keyword will result in an error or misinterpretation.\n",
      "\n"
     ]
    },
    {
     "data": {
      "image/png": "[encoded data removed]",
      "text/plain": [
       "<Figure size 1080x360 with 2 Axes>"
      ]
     },
     "metadata": {
      "needs_background": "light"
     },
     "output_type": "display_data"
    }
   ],
   "source": [
    "# Set the size of the figure\n",
    "plt.figure(figsize=(15, 5))\n",
    "\n",
    "\n",
    "# Box Plot\n",
    "plt.subplot(1, 2, 1)\n",
    "sns.boxplot(df['age'], color='skyblue')\n",
    "plt.title('Box Plot of Age')\n",
    "plt.xlabel('Age')\n",
    "\n",
    "\n",
    "# Histogram\n",
    "plt.subplot(1, 2, 2)\n",
    "plt.hist(df['age'], bins=20, color='skyblue', edgecolor='black')\n",
    "plt.title('Histogram of Age')\n",
    "plt.xlabel('Age')\n",
    "plt.ylabel('Frequency')\n",
    "plt.show()\n",
    "\n"
   ]
  },
  {
   "cell_type": "markdown",
   "metadata": {},
   "source": [
    "**Observations**\n",
    "\n",
    "- The Histogram above illustrates that majority of the sample is aged between 40 -75. \n",
    "\n",
    "- The box plot shows that there was an outlier with one individual in the sample that was 4 years old.This calls for further investigation. \n",
    "\n",
    "- Focusing on individuals predominantly aged between 40 and 75 may skew the assessment of treatment success. \n",
    "\n",
    "- Since other age groups are underrepresented, conclusions drawn from the sample may not accurately reflect treatment outcomes across all age demographics. "
   ]
  },
  {
   "cell_type": "markdown",
   "metadata": {},
   "source": [
    "### Year"
   ]
  },
  {
   "cell_type": "code",
   "execution_count": 77,
   "metadata": {},
   "outputs": [
    {
     "data": {
      "image/png": "[encoded data removed]",
      "text/plain": [
       "<Figure size 864x432 with 1 Axes>"
      ]
     },
     "metadata": {
      "needs_background": "light"
     },
     "output_type": "display_data"
    }
   ],
   "source": [
    "# Set figure size\n",
    "plt.figure(figsize=(12, 6))  # Adjust width and height as needed\n",
    "\n",
    "\n",
    "# Create count plot using Seaborn\n",
    "sns.countplot(x=df['year'],color='Skyblue')\n",
    "\n",
    "# Set plot title and labels\n",
    "plt.title('Number of patients who recieved treatment by year ')\n",
    "plt.xlabel('year')\n",
    "plt.ylabel('Count')\n",
    "\n",
    "# Show plot\n",
    "plt.show()"
   ]
  },
  {
   "cell_type": "markdown",
   "metadata": {},
   "source": [
    "**Observations**\n",
    "\n",
    "- The grapgh above shows the distribution of individuals who received treatment for melanoma across different years. \n",
    "\n",
    "- The highest number of treatments occurred in 1972, with 41 individuals, followed by 1973 with 31 individuals. \n",
    "\n",
    "- Treatment numbers decline steadily in subsequent years, with minimal representation in earlier and later years, such as 1964 and 1977, each having only one recorded treatment."
   ]
  },
  {
   "cell_type": "markdown",
   "metadata": {},
   "source": [
    "### Thickness"
   ]
  },
  {
   "cell_type": "code",
   "execution_count": 136,
   "metadata": {},
   "outputs": [
    {
     "data": {
      "image/png": "[encoded data removed]",
      "text/plain": [
       "<Figure size 864x432 with 1 Axes>"
      ]
     },
     "metadata": {
      "needs_background": "light"
     },
     "output_type": "display_data"
    }
   ],
   "source": [
    "# Set figure size\n",
    "plt.figure(figsize=(12, 6))\n",
    "\n",
    "# Create count plot using Seaborn\n",
    "\n",
    "sns.histplot(x='thickness',data=df,bins=10)\n",
    "\n",
    "# Set plot title and labels\n",
    "plt.title('Histogram of Tumor Thickness')\n",
    "plt.xlabel('Tumor Thickness ')\n",
    "\n",
    "\n",
    "plt.show()"
   ]
  },
  {
   "cell_type": "code",
   "execution_count": 50,
   "metadata": {},
   "outputs": [
    {
     "data": {
      "image/png": "[encoded data removed]",
      "text/plain": [
       "<Figure size 576x432 with 1 Axes>"
      ]
     },
     "metadata": {
      "needs_background": "light"
     },
     "output_type": "display_data"
    }
   ],
   "source": [
    "# ECDF Plot\n",
    "plt.figure(figsize=(8, 6))\n",
    "sns.ecdfplot(df['thickness'], color='skyblue')\n",
    "plt.title('ECDF Plot of Thickness')\n",
    "plt.xlabel('Thickness')\n",
    "plt.ylabel('Cumulative Probability')\n",
    "plt.show()"
   ]
  },
  {
   "cell_type": "markdown",
   "metadata": {},
   "source": [
    "**Observation**\n",
    "\n",
    "- The majority of tumors measured between 0 and 5 millimeters in thickness, with only a small number reaching 7.5 millimeters.\n",
    "- The probability of patients having a tumor below 2.5mm is 0.63"
   ]
  },
  {
   "cell_type": "markdown",
   "metadata": {},
   "source": [
    "### Ulcer"
   ]
  },
  {
   "cell_type": "code",
   "execution_count": 51,
   "metadata": {},
   "outputs": [
    {
     "data": {
      "image/png": "[encoded data removed]",
      "text/plain": [
       "<Figure size 576x432 with 1 Axes>"
      ]
     },
     "metadata": {
      "needs_background": "light"
     },
     "output_type": "display_data"
    }
   ],
   "source": [
    "# Set figure size\n",
    "plt.figure(figsize=(8, 6))  # Adjust width and height as needed\n",
    "\n",
    "# Create count plot using Seaborn\n",
    "sns.countplot(x=df['ulcer'])\n",
    "\n",
    "# Set plot title and labels\n",
    "plt.title('Is the ulcer present? ')\n",
    "plt.xlabel('ulcer presence')\n",
    "plt.ylabel('Count')\n",
    "\n",
    "# Show plot\n",
    "plt.show()\n"
   ]
  },
  {
   "cell_type": "markdown",
   "metadata": {},
   "source": [
    "**Observation**\n",
    "The data indicates that out of the total number of patients, 115 had no ulcer present, while 90 patients had ulcers present."
   ]
  },
  {
   "cell_type": "markdown",
   "metadata": {},
   "source": [
    "# Bivariate Anlaysis"
   ]
  },
  {
   "cell_type": "markdown",
   "metadata": {},
   "source": [
    "** Relevant Questions Asked **\n",
    "- What is the average survival/duration for each status category?\n",
    "- Is there a difference in survival duration between males and females?\n",
    "- How does age correlate with survival time?\n",
    "- How does the year of operation relate to survival time?\n",
    "- What is the association between tumor thickness and survival time?\n",
    "- How does the presence or absence of ulcers affect survival duration?\n",
    "- Is there a correlation between the status of the patient and their sex?\n",
    "- How does the patient's status relate to the year of operation?\n",
    "- What is the connection between the patient's status and tumor thickness?\n",
    "- In what scenarios does the presence of ulcers coincide with patient survival?\n",
    "- How does age differ between males and females?\n",
    "- Is there a relationship between age and tumor thickness?\n",
    "- How does age relate to the presence of ulcers?\n",
    "- What is the correlation between the year of operation and tumor thickness?\n",
    "- How does the year of operation relate to the presence of ulcers?"
   ]
  },
  {
   "cell_type": "code",
   "execution_count": 74,
   "metadata": {},
   "outputs": [],
   "source": [
    "def labelled_barchart(x,y,data,colour='teal',figure_size=(8,5)):\n",
    "    \"\"\" \n",
    "    Plot a barchart with labels displayed on the bars.\n",
    "\n",
    "    Parameters:\n",
    "    \"\"\"\n",
    "    #Set figure size \n",
    "    plt.figure(figsize=figure_size)\n",
    "    \n",
    "    #Plotting the barchart\n",
    "    ax=sns.barplot(x=x,y=y,data=data,color=colour,ci=None)\n",
    "    # Insert a title \n",
    "    ax.set_title('Survival Time per Gender',fontdict={'fontsize':18})\n",
    "    #Taking off the figure frames \n",
    "    sns.despine( top=True, right=True, left=True, bottom=True)\n",
    "    #clearing the xlabel,ylabels and y ticks \n",
    "    ax.set(xlabel='',ylabel='',yticks=[])\n",
    "    \n",
    "\n",
    "    # setting the xtick size to 12\n",
    "    ax.tick_params(axis='x', labelsize=12)\n",
    "    \n",
    "    #looping through the bars\n",
    "    for bar in ax.patches:\n",
    "        #getting the height of each bar \n",
    "        bar_height=bar.get_height()\n",
    "        #putting the bar height as labels on each bar \n",
    "        ax.text(x=bar.get_x()+(bar.get_width()/2),y=bar_height-480,s='{:.2f}'.format(bar_height),\n",
    "                ha='center',color='white',fontdict={'fontsize':18})\n",
    "        \n",
    "    \n",
    "    plt.show()"
   ]
  },
  {
   "cell_type": "markdown",
   "metadata": {},
   "source": [
    "**On average,how many days did patience survive after they had their tumour removed?**"
   ]
  },
  {
   "cell_type": "code",
   "execution_count": 76,
   "metadata": {},
   "outputs": [
    {
     "data": {
      "image/png": "[encoded data removed]",
      "text/plain": [
       "<Figure size 576x360 with 1 Axes>"
      ]
     },
     "metadata": {
      "needs_background": "light"
     },
     "output_type": "display_data"
    }
   ],
   "source": [
    "labelled_barchart('status','time',data=df)"
   ]
  },
  {
   "cell_type": "code",
   "execution_count": 52,
   "metadata": {},
   "outputs": [
    {
     "data": {
      "image/png": "[encoded data removed]",
      "text/plain": [
       "<Figure size 432x288 with 1 Axes>"
      ]
     },
     "metadata": {
      "needs_background": "light"
     },
     "output_type": "display_data"
    }
   ],
   "source": [
    "sns.barplot(x='status',y='time',data=df,ci=None);"
   ]
  },
  {
   "cell_type": "markdown",
   "metadata": {},
   "source": [
    "**On average, which gender survived the longest?**\n"
   ]
  },
  {
   "cell_type": "code",
   "execution_count": 53,
   "metadata": {},
   "outputs": [
    {
     "data": {
      "image/png": "[encoded data removed]",
      "text/plain": [
       "<Figure size 432x288 with 1 Axes>"
      ]
     },
     "metadata": {
      "needs_background": "light"
     },
     "output_type": "display_data"
    }
   ],
   "source": [
    "sns.barplot(x='sex',y='time',data=df,ci=None);"
   ]
  },
  {
   "cell_type": "markdown",
   "metadata": {},
   "source": [
    "**On average, what age category did pateients survive the longest?**"
   ]
  },
  {
   "cell_type": "code",
   "execution_count": 54,
   "metadata": {},
   "outputs": [
    {
     "data": {
      "image/png": "[encoded data removed]",
      "text/plain": [
       "<Figure size 432x288 with 1 Axes>"
      ]
     },
     "metadata": {
      "needs_background": "light"
     },
     "output_type": "display_data"
    }
   ],
   "source": [
    "sns.scatterplot(x='age',y='time',data=df);"
   ]
  },
  {
   "cell_type": "markdown",
   "metadata": {},
   "source": [
    "Observation: there is no relationship between age and time "
   ]
  },
  {
   "cell_type": "markdown",
   "metadata": {},
   "source": [
    "**Relationship between age, time and status**"
   ]
  },
  {
   "cell_type": "code",
   "execution_count": null,
   "metadata": {},
   "outputs": [],
   "source": [
    "sns.scatterplot(x='age',y='time',data=df,hue='status');"
   ]
  },
  {
   "cell_type": "markdown",
   "metadata": {},
   "source": [
    "**What is the relationship between time and year?**"
   ]
  },
  {
   "cell_type": "code",
   "execution_count": null,
   "metadata": {},
   "outputs": [],
   "source": []
  },
  {
   "cell_type": "code",
   "execution_count": null,
   "metadata": {},
   "outputs": [],
   "source": [
    "plt.figure(figsize=(10,4))\n",
    "sns.barplot(x='year',y='time',data=df,ci=None,color='teal');"
   ]
  },
  {
   "cell_type": "code",
   "execution_count": 75,
   "metadata": {
    "scrolled": true
   },
   "outputs": [
    {
     "data": {
      "image/png": "[encoded data removed]",
      "text/plain": [
       "<Figure size 576x360 with 1 Axes>"
      ]
     },
     "metadata": {
      "needs_background": "light"
     },
     "output_type": "display_data"
    }
   ],
   "source": [
    "labelled_barchart('sex','time',data=df)"
   ]
  },
  {
   "cell_type": "markdown",
   "metadata": {},
   "source": [
    "# Hypothesis Testing "
   ]
  },
  {
   "cell_type": "markdown",
   "metadata": {},
   "source": [
    "- what is the relationship between sex and ulcer ? ( chi square )\n",
    "- what is the relationship between gender and time?(t-test)\n",
    "- What is the relationship between status and sex?(chi square )\n",
    "- what is the relationship between thickness and sex?(t-test)"
   ]
  },
  {
   "cell_type": "markdown",
   "metadata": {},
   "source": [
    "What is the relationship between sex and ulcer ?\n",
    "\n",
    "H0:sex and ulcer are independent \n",
    "\n",
    "H1:sex and ulcer are dependent \n",
    "\n",
    "alpha = 0.05"
   ]
  },
  {
   "cell_type": "code",
   "execution_count": null,
   "metadata": {},
   "outputs": [],
   "source": [
    "# contingency table\n",
    "tabulation = pd.crosstab(index= df['sex'],columns=df['ulcer'])\n",
    "tabulation"
   ]
  },
  {
   "cell_type": "code",
   "execution_count": null,
   "metadata": {},
   "outputs": [],
   "source": [
    "pd.crosstab(index= df['sex'],columns=df['ulcer'],normalize='index')*100"
   ]
  },
  {
   "cell_type": "code",
   "execution_count": null,
   "metadata": {},
   "outputs": [],
   "source": [
    "chi2,p,dof,exp = stats.chi2_contingency(tabulation)\n",
    "print('chi2 :',chi2)\n",
    "print( )\n",
    "print('p_value:',p)\n",
    "print( )\n",
    "print('Degree of freedom:',dof)\n",
    "print( )\n",
    "print('Expected frequency:',exp)"
   ]
  },
  {
   "cell_type": "markdown",
   "metadata": {},
   "source": [
    "### Conclusion: \n",
    "If the P value is smaller we reject the null hypothesis. \n",
    "\n",
    "At a significance level of 0.05,p-value =0.0237 < 0.05,therefore we reject the null hypothesis and conclude that ulcer infection is associated with gender. \n"
   ]
  },
  {
   "cell_type": "code",
   "execution_count": null,
   "metadata": {},
   "outputs": [],
   "source": [
    "# - What is the relationship between status and sex?(chi square )\n",
    "tabulation_1 = pd.crosstab(index= df['sex'],columns=df['status'])\n",
    "tabulation_1"
   ]
  },
  {
   "cell_type": "code",
   "execution_count": null,
   "metadata": {},
   "outputs": [],
   "source": [
    "tabulation_1 = pd.crosstab(index= df['sex'],columns=df['status'],normalize='index')*100\n",
    "tabulation_1"
   ]
  },
  {
   "cell_type": "code",
   "execution_count": null,
   "metadata": {},
   "outputs": [],
   "source": [
    "chi2,p,dof,exp = stats.chi2_contingency(tabulation_1)\n",
    "print('chi2 :',chi2)\n",
    "print( )\n",
    "print('p_value:',p)\n",
    "print( )\n",
    "print('Degree of freedom:',dof)\n",
    "print( )\n",
    "print('Expected frequency:',exp)"
   ]
  },
  {
   "cell_type": "markdown",
   "metadata": {},
   "source": [
    "### Conclusion: \n",
    "If the P value is smaller we reject the null hypothesis. \n",
    "\n",
    "At a significance level of 0.05,p-value =0.03 < 0.05,therefore we reject the null hypothesis and conclude that status(i.e patient outcome ) is associated with gender. \n"
   ]
  },
  {
   "cell_type": "code",
   "execution_count": null,
   "metadata": {},
   "outputs": [],
   "source": [
    "# - what is the relationship between gender and time?(t-test)\n",
    "df.groupby('sex')['time'].mean()"
   ]
  },
  {
   "cell_type": "code",
   "execution_count": null,
   "metadata": {},
   "outputs": [],
   "source": [
    "plt.hist(x=df['time'],bins=20)"
   ]
  },
  {
   "cell_type": "code",
   "execution_count": null,
   "metadata": {},
   "outputs": [],
   "source": [
    "Male = df[df['sex'] == 'Male']['time'].values\n",
    "\n",
    "\n",
    "Female = df[df['sex'] == 'Female']['time'].values"
   ]
  },
  {
   "cell_type": "markdown",
   "metadata": {},
   "source": [
    "### Hypothesis:\n",
    "- H0= Famales and Males live the same amount of time(Uf=Um)\n",
    "- H1= Females live longer than males (Uf>Um)\n",
    "- alpha: 0.05"
   ]
  },
  {
   "cell_type": "markdown",
   "metadata": {},
   "source": [
    "**conducting a t-test**"
   ]
  },
  {
   "cell_type": "code",
   "execution_count": null,
   "metadata": {},
   "outputs": [],
   "source": [
    "test_results = pingouin.ttest(x=Female, \n",
    "                              y=Male,\n",
    "                              paired = False,\n",
    "                             tail='greater')\n"
   ]
  },
  {
   "cell_type": "code",
   "execution_count": null,
   "metadata": {},
   "outputs": [],
   "source": [
    "test_results"
   ]
  },
  {
   "cell_type": "markdown",
   "metadata": {},
   "source": [
    "### Conclusion: \n",
    "If the P value is smaller we reject the null hypothesis. \n",
    "\n",
    "At a significance level of 0.05,p-value =0.019 < 0.05,therefore we reject the null hypothesis and conclude that females live longer than males after surviving the operation "
   ]
  },
  {
   "cell_type": "code",
   "execution_count": null,
   "metadata": {},
   "outputs": [],
   "source": [
    "# what is the relationship between thickness and sex?(t-test)"
   ]
  },
  {
   "cell_type": "code",
   "execution_count": null,
   "metadata": {},
   "outputs": [],
   "source": [
    "df"
   ]
  },
  {
   "cell_type": "markdown",
   "metadata": {},
   "source": [
    "### Hypothesis:\n",
    "- H0= Males and females both have the same tumor thickness in millimeters \n",
    "- H1=Males have thicker tumors thickness in millimeters\n",
    "- alpha: 0.05"
   ]
  },
  {
   "cell_type": "code",
   "execution_count": null,
   "metadata": {},
   "outputs": [],
   "source": [
    "Male_1 = df[df['sex'] == 'Male']['thickness'].values\n",
    "\n",
    "\n",
    "Female_1 = df[df['sex'] == 'Female']['thickness'].values"
   ]
  },
  {
   "cell_type": "code",
   "execution_count": null,
   "metadata": {},
   "outputs": [],
   "source": [
    "Female_1"
   ]
  },
  {
   "cell_type": "markdown",
   "metadata": {},
   "source": [
    "**conducting a t-test**"
   ]
  },
  {
   "cell_type": "code",
   "execution_count": null,
   "metadata": {},
   "outputs": [],
   "source": [
    "test_results = pingouin.ttest(x=Male_1, \n",
    "                              y=Female_1,\n",
    "                              paired = False,\n",
    "                             tail='greater')\n"
   ]
  },
  {
   "cell_type": "code",
   "execution_count": null,
   "metadata": {},
   "outputs": [],
   "source": [
    "test_results"
   ]
  },
  {
   "cell_type": "markdown",
   "metadata": {},
   "source": [
    "### Conclusion: \n",
    "If the P value is smaller we reject the null hypothesis. \n",
    "\n",
    "At a significance level of 0.05,p-value =0.005046 < 0.05,therefore we reject the null hypothesis and conclude that Males have thicker tumors than females "
   ]
  }
 ],
 "metadata": {
  "kernelspec": {
   "display_name": "Python 3",
   "language": "python",
   "name": "python3"
  },
  "language_info": {
   "codemirror_mode": {
    "name": "ipython",
    "version": 3
   },
   "file_extension": ".py",
   "mimetype": "text/x-python",
   "name": "python",
   "nbconvert_exporter": "python",
   "pygments_lexer": "ipython3",
   "version": "3.6.5"
  }
 },
 "nbformat": 4,
 "nbformat_minor": 2
}
